{
 "cells": [
  {
   "cell_type": "code",
   "execution_count": 2,
   "metadata": {},
   "outputs": [
    {
     "name": "stdin",
     "output_type": "stream",
     "text": [
      "enter the start range of steps creations=> 1\n",
      "enter the end range of steps creations=> 10\n"
     ]
    },
    {
     "name": "stdout",
     "output_type": "stream",
     "text": [
      "\n",
      "index[1]\n",
      "here the step is =>1\n",
      "\n",
      "here the result:~>[ 1  2  3  4  5  6  7  8  9 10]\n",
      "\n",
      "index[2]\n",
      "here the step is =>2\n",
      "\n",
      "here the result:~>[1 3 5 7 9]\n",
      "\n",
      "index[3]\n",
      "here the step is =>3\n",
      "\n",
      "here the result:~>[ 1  4  7 10]\n",
      "\n",
      "index[4]\n",
      "here the step is =>4\n",
      "\n",
      "here the result:~>[1 5 9]\n",
      "\n",
      "index[5]\n",
      "here the step is =>5\n",
      "\n",
      "here the result:~>[1 6]\n",
      "\n",
      "index[6]\n",
      "here the step is =>6\n",
      "\n",
      "here the result:~>[1 7]\n",
      "\n",
      "index[7]\n",
      "here the step is =>7\n",
      "\n",
      "here the result:~>[1 8]\n",
      "\n",
      "index[8]\n",
      "here the step is =>8\n",
      "\n",
      "here the result:~>[1 9]\n",
      "\n",
      "index[9]\n",
      "here the step is =>9\n",
      "\n",
      "here the result:~>[ 1 10]\n",
      "\n",
      "index[10]\n",
      "here the step is =>10\n",
      "\n",
      "here the result:~>[1]\n"
     ]
    }
   ],
   "source": [
    "from numpy import arange as arg\n",
    "\n",
    "start_step = int(input(\"enter the start range of steps creations=>\"))\n",
    "end_step = int(input(\"enter the end range of steps creations=>\"))\n",
    "nu= arg(start_step,end_step+1)\n",
    "\n",
    "\n",
    "# create steps\n",
    "for lp in nu:\n",
    "    print(f\"\\nindex{[lp]}\")\n",
    "    print(f\"here the step is =>{lp}\\n\")\n",
    "    print(f\"here the result:~>{arg(1, end_step+1, lp)}\")"
   ]
  },
  {
   "cell_type": "code",
   "execution_count": 6,
   "metadata": {},
   "outputs": [
    {
     "name": "stdout",
     "output_type": "stream",
     "text": [
      "\n",
      "here_the_1d_arr =>\n",
      "[  1   2   3   4   5   6   7   8   9  10  11  12  13  14  15  16  17  18\n",
      "  19  20  21  22  23  24  25  26  27  28  29  30  31  32  33  34  35  36\n",
      "  37  38  39  40  41  42  43  44  45  46  47  48  49  50  51  52  53  54\n",
      "  55  56  57  58  59  60  61  62  63  64  65  66  67  68  69  70  71  72\n",
      "  73  74  75  76  77  78  79  80  81  82  83  84  85  86  87  88  89  90\n",
      "  91  92  93  94  95  96  97  98  99 100]\n",
      "\n",
      "after_the_reshape_conv_info_2d = >\n",
      "[[  1   2   3   4   5   6   7   8   9  10]\n",
      " [ 11  12  13  14  15  16  17  18  19  20]\n",
      " [ 21  22  23  24  25  26  27  28  29  30]\n",
      " [ 31  32  33  34  35  36  37  38  39  40]\n",
      " [ 41  42  43  44  45  46  47  48  49  50]\n",
      " [ 51  52  53  54  55  56  57  58  59  60]\n",
      " [ 61  62  63  64  65  66  67  68  69  70]\n",
      " [ 71  72  73  74  75  76  77  78  79  80]\n",
      " [ 81  82  83  84  85  86  87  88  89  90]\n",
      " [ 91  92  93  94  95  96  97  98  99 100]]\n",
      "\n",
      "ow_i_want_to_conv_1d = >\n",
      "[  1   2   3   4   5   6   7   8   9  10  11  12  13  14  15  16  17  18\n",
      "  19  20  21  22  23  24  25  26  27  28  29  30  31  32  33  34  35  36\n",
      "  37  38  39  40  41  42  43  44  45  46  47  48  49  50  51  52  53  54\n",
      "  55  56  57  58  59  60  61  62  63  64  65  66  67  68  69  70  71  72\n",
      "  73  74  75  76  77  78  79  80  81  82  83  84  85  86  87  88  89  90\n",
      "  91  92  93  94  95  96  97  98  99 100]\n"
     ]
    }
   ],
   "source": [
    "import numpy as np\n",
    "\n",
    "here_the_1d_arr = np.arange(1, 100+1)\n",
    "print(f\"\\nhere_the_1d_arr =>\\n{here_the_1d_arr}\")\n",
    "\n",
    "after_the_reshape_conv_info_2d = here_the_1d_arr.reshape(10,10)\n",
    "print(f\"\\nafter_the_reshape_conv_info_2d = >\\n{after_the_reshape_conv_info_2d}\")\n",
    "\n",
    "now_i_want_to_conv_1d = after_the_reshape_conv_info_2d.ravel()\n",
    "print(f\"\\now_i_want_to_conv_1d = >\\n{now_i_want_to_conv_1d}\")"
   ]
  }
 ],
 "metadata": {
  "kernelspec": {
   "display_name": "Python 3",
   "language": "python",
   "name": "python3"
  },
  "language_info": {
   "codemirror_mode": {
    "name": "ipython",
    "version": 3
   },
   "file_extension": ".py",
   "mimetype": "text/x-python",
   "name": "python",
   "nbconvert_exporter": "python",
   "pygments_lexer": "ipython3",
   "version": "3.8.6"
  }
 },
 "nbformat": 4,
 "nbformat_minor": 4
}
